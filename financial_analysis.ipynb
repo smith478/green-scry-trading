{
 "cells": [
  {
   "cell_type": "markdown",
   "id": "284ecd43-7880-40e6-988e-f7b057edc634",
   "metadata": {},
   "source": [
    "## Main idea\n",
    "\n",
    "Combine \n",
    "- fundamental,\n",
    "- technical (including weekly RSI), and\n",
    "- financial statements analysis\n",
    "\n",
    "to find stocks that are attractive to buy long term (as a buy and hold). Ideal holding period is 1 to 5 years.\n",
    "\n",
    "Goal is to hold these medium/long term and not worry so much about the allocation, then when the stocks look less attractive, then sell them (or a portion)."
   ]
  },
  {
   "cell_type": "code",
   "execution_count": null,
   "id": "c1f3c95d-a203-40d4-9c7d-d558070fd865",
   "metadata": {},
   "outputs": [],
   "source": [
    "import yfinance as yf\n",
    "import pandas as pd\n",
    "import numpy as np\n",
    "import matplotlib.pyplot as plt\n",
    "from groq import Groq\n",
    "import re\n",
    "from datetime import datetime, timedelta"
   ]
  },
  {
   "cell_type": "code",
   "execution_count": null,
   "id": "e4384774-914d-46d1-8f99-c1db7a1cde36",
   "metadata": {},
   "outputs": [],
   "source": [
    "from dotenv import load_dotenv\n",
    "import os\n",
    "\n",
    "# Load environment variables\n",
    "load_dotenv('groq_api.env')"
   ]
  },
  {
   "cell_type": "code",
   "execution_count": null,
   "id": "16cf25d3-ce52-4f75-8ffa-40c233e19343",
   "metadata": {},
   "outputs": [],
   "source": [
    "# Initialize Groq client\n",
    "groq_api_key = os.getenv('GROQ_API_KEY')\n",
    "groq_client = Groq(api_key=groq_api_key)"
   ]
  },
  {
   "cell_type": "markdown",
   "id": "073259f3-5eff-4f12-8de0-39957b89fbf2",
   "metadata": {},
   "source": [
    "## Data collection\n",
    "\n",
    "### TODO\n",
    "Extend the function below to get all, or top 100 sp500 stocks, plus any that we currently own"
   ]
  },
  {
   "cell_type": "code",
   "execution_count": null,
   "id": "94a572bd-f074-4d84-b9ef-d7bc4327525d",
   "metadata": {},
   "outputs": [],
   "source": [
    "def get_top_sp500_stocks(n=20):\n",
    "    # Declare top 10 stocks in S&P 500 (for demonstration)\n",
    "    tickers = ['AAPL', 'MSFT', 'AMZN', 'GOOGL', 'GOOG', 'META', 'TSLA', 'BRK.B', 'JPM', 'V', 'DASH', 'NFLX', 'DIS', 'SBUX', 'BABA', 'NVDA', 'BIDU', 'XOM', 'PEG', 'CEG', 'BWXT', 'NEM', 'GFI', 'HMY', 'CVX', 'AVGO', 'HD', 'PG', 'WMT', 'JNJ', 'ABBV']\n",
    "    \n",
    "    # Get market cap for each stock\n",
    "    market_caps = {}\n",
    "    for ticker in tickers:\n",
    "        stock = yf.Ticker(ticker)\n",
    "        market_caps[ticker] = stock.info.get('marketCap', 0)\n",
    "    \n",
    "    # Sort by market cap and get top n\n",
    "    top_stocks = sorted(market_caps.items(), key=lambda x: x[1], reverse=True)[:n]\n",
    "    return [stock[0] for stock in top_stocks]"
   ]
  },
  {
   "cell_type": "code",
   "execution_count": null,
   "id": "bc8f7ae5-5619-4644-8cfa-01cba5978f5f",
   "metadata": {},
   "outputs": [],
   "source": [
    "top_stocks = get_top_sp500_stocks(20)\n",
    "pd.DataFrame(top_stocks, columns=['Ticker']).to_csv('top_20_stocks.csv', index=False)"
   ]
  },
  {
   "cell_type": "markdown",
   "id": "d44a4568-ffb8-4453-9e05-aab18e18fb1f",
   "metadata": {},
   "source": [
    "## Retrieve financial data\n",
    "\n",
    "Retrieve both historical price data and income statements for each stock over the past five years."
   ]
  },
  {
   "cell_type": "code",
   "execution_count": null,
   "id": "0743c90b-eb5c-4078-8b4d-10392477bf71",
   "metadata": {},
   "outputs": [],
   "source": [
    "def get_financial_data(ticker, start_date, end_date):\n",
    "    stock = yf.Ticker(ticker)\n",
    "    \n",
    "    # Get historical price data\n",
    "    price_data = stock.history(start=start_date, end=end_date)\n",
    "    \n",
    "    # Get income statement\n",
    "    income_statement = stock.financials\n",
    "    \n",
    "    return {\n",
    "        \"price_data\": price_data,\n",
    "        \"income_statement\": income_statement\n",
    "    }"
   ]
  },
  {
   "cell_type": "code",
   "execution_count": null,
   "id": "a5d8ff45-2188-48cc-9561-65b54a480bc5",
   "metadata": {},
   "outputs": [],
   "source": [
    "start_date = datetime.now() - timedelta(days=5*365)\n",
    "end_date = datetime.now()\n",
    "\n",
    "all_data = {}\n",
    "for ticker in top_stocks:\n",
    "    all_data[ticker] = get_financial_data(ticker, start_date, end_date)"
   ]
  },
  {
   "cell_type": "code",
   "execution_count": null,
   "id": "742ed9f6-5404-4342-93b2-15d1139e54f6",
   "metadata": {},
   "outputs": [],
   "source": [
    "# all_data"
   ]
  },
  {
   "cell_type": "code",
   "execution_count": null,
   "id": "17897b5f-5131-4404-9f20-6db7158f1cb2",
   "metadata": {},
   "outputs": [],
   "source": [
    "def format_income_statement_for_llm(income_statement_column):\n",
    "    formatted_text = \"\"\n",
    "    for index, value in income_statement_column.items():\n",
    "        formatted_value = f\"{value:,.2f}\" if isinstance(value, (int, float)) else str(value)\n",
    "        formatted_text += f\"{index}: {formatted_value}\\n\"\n",
    "    return formatted_text.strip()"
   ]
  },
  {
   "cell_type": "code",
   "execution_count": null,
   "id": "e3e14e77-c879-4c2f-a7f7-ffe0555bc99f",
   "metadata": {},
   "outputs": [],
   "source": [
    "# Example usage\n",
    "for ticker, data in all_data.items():\n",
    "    current_year = data['income_statement'].columns[0]\n",
    "    formatted_statement = format_income_statement_for_llm(data['income_statement'][current_year])\n",
    "    print(f\"Formatted Income Statement for {ticker}:\\n{formatted_statement}\\n\")"
   ]
  },
  {
   "cell_type": "markdown",
   "id": "8bff3af4-0662-435a-96fc-929071587595",
   "metadata": {},
   "source": [
    "## Prompt for income statement evaluation\n",
    "\n",
    "### TODO\n",
    "\n",
    "Update the prompt to figure out which financial metrics should be used out of the ones available in yfinance"
   ]
  },
  {
   "cell_type": "code",
   "execution_count": null,
   "id": "f74e8ef3-bcda-4f6a-be5f-9082aa32c2ed",
   "metadata": {},
   "outputs": [],
   "source": [
    "def create_prompt_for_income_statement_v0(current_year_income_statement, previous_year_income_statement):\n",
    "    prompt = f\"\"\"\n",
    "Evaluate the following income statements for the current year and the previous year. Provide a score between 0 and 10 for each criterion, where 0 is very poor and 10 is excellent. Consider criteria such as revenue growth, profitability, operating efficiency, and earnings quality. Additionally, provide an overall score based on the average of the criteria scores.\n",
    "\n",
    "Income Statement for the Current Year:\n",
    "{current_year_income_statement}\n",
    "\n",
    "Income Statement for the Previous Year:\n",
    "{previous_year_income_statement}\n",
    "\n",
    "Criteria for Evaluation:\n",
    "1. Revenue Growth: Analyze the growth in revenue compared to the previous year.\n",
    "2. Gross Profit Margin: Calculate as Gross Profit / Total Revenue.\n",
    "3. Operating Margin: Calculate as Operating Income / Total Revenue.\n",
    "4. Net Profit Margin: Calculate as Net Income / Total Revenue.\n",
    "5. EPS Growth: Compare EPS to the previous year.\n",
    "6. Operating Efficiency: Consider Operating Expense relative to Total Revenue.\n",
    "7. Interest Coverage Ratio: Calculate as EBIT / Interest Expense.\n",
    "\n",
    "Provide the score for each criterion and an overall score. Include explanations for each score.\n",
    "    \"\"\"\n",
    "    return prompt\n",
    "\n",
    "def create_prompt_for_income_statement(current_year_income_statement, previous_year_income_statement):\n",
    "    prompt = f\"\"\"\n",
    "Evaluate the following income statements for the current year and the previous year. Provide a score between 0 and 10 for each criterion, where 0 is very poor and 10 is excellent. Consider criteria such as revenue growth, profitability, operating efficiency, and earnings quality. Additionally, provide an overall score based on the average of the criteria scores.\n",
    "\n",
    "Income Statement for the Current Year:\n",
    "{current_year_income_statement}\n",
    "\n",
    "Income Statement for the Previous Year:\n",
    "{previous_year_income_statement}\n",
    "\n",
    "Criteria for Evaluation:\n",
    "1. Revenue Growth: Analyze the growth in revenue compared to the previous year.\n",
    "2. Gross Profit Margin: Calculate as Gross Profit / Total Revenue.\n",
    "3. Operating Margin: Calculate as Operating Income / Total Revenue.\n",
    "4. Net Profit Margin: Calculate as Net Income / Total Revenue.\n",
    "5. EPS Growth: Analyze the growth in Earnings Per Share (EPS) compared to the previous year.\n",
    "6. Operating Efficiency: Consider Operating Expense relative to Total Revenue.\n",
    "7. Interest Coverage Ratio: Calculate as Earnings Before Interest and Taxes (EBIT) / Interest Expense.\n",
    "\n",
    "Example Format:\n",
    "1. Revenue Growth: 8.5\n",
    "2. Gross Profit Margin: 7.0\n",
    "3. Operating Margin: 6.5\n",
    "4. Net Profit Margin: 7.0\n",
    "5. EPS Growth: 8.0\n",
    "6. Operating Efficiency: 7.5\n",
    "7. Interest Coverage Ratio: 9.0\n",
    "Overall Score: 7.5\n",
    "\n",
    "Provide the score for each criterion and an overall score. Include explanations for each score.\n",
    "    \"\"\"\n",
    "    return prompt"
   ]
  },
  {
   "cell_type": "code",
   "execution_count": null,
   "id": "0e750592-2098-4b9d-9ab7-9036d6820fcb",
   "metadata": {},
   "outputs": [],
   "source": [
    "def evaluate_income_statements_llm(current_year_income_statement, previous_year_income_statement):\n",
    "    prompt = create_prompt_for_income_statement(current_year_income_statement, previous_year_income_statement)\n",
    "    response = groq_client.chat.completions.create(\n",
    "        messages=[{\"role\": \"user\", \"content\": prompt}],\n",
    "        model=\"llama-3.1-8b-instant\",\n",
    "        temperature=0.2,\n",
    "        max_tokens=1000\n",
    "    )\n",
    "    analysis = response.choices[0].message.content.strip()\n",
    "    score = re.search(r\"Overall Score: (\\d+\\.\\d+)\", analysis)\n",
    "    return float(score.group(1)) if score else None"
   ]
  },
  {
   "cell_type": "code",
   "execution_count": null,
   "id": "3a189453-227b-468d-8787-25ede24b66ae",
   "metadata": {},
   "outputs": [],
   "source": [
    "def process_llm_output_v0(llm_output):\n",
    "    # Extract individual criterion scores\n",
    "    criterion_scores = re.findall(r\"(\\d+\\.\\s*[\\w\\s]+):\\s*(\\d+(?:\\.\\d+)?)\", llm_output)\n",
    "    \n",
    "    # Extract overall score\n",
    "    overall_score = re.search(r\"Overall Score: (\\d+(?:\\.\\d+)?)\", llm_output)\n",
    "    \n",
    "    return {\n",
    "        'criterion_scores': dict(criterion_scores),\n",
    "        'overall_score': float(overall_score.group(1)) if overall_score else None,\n",
    "        'full_analysis': llm_output\n",
    "    }\n",
    "\n",
    "def process_llm_output(llm_output):\n",
    "    # Extract individual criterion scores\n",
    "    criterion_scores = re.findall(r\"(\\d+\\.\\s*[\\w\\s]+):\\s*(\\d+(?:\\.\\d+)?)\", llm_output)\n",
    "    \n",
    "    # Create a dictionary to store the scores\n",
    "    criterion_scores_dict = {score[0].strip(): float(score[1]) for score in criterion_scores}\n",
    "    \n",
    "    # Extract overall score\n",
    "    overall_score = re.search(r\"Overall Score:\\s*(\\d+(?:\\.\\d+)?)\", llm_output)\n",
    "    \n",
    "    return {\n",
    "        'criterion_scores': criterion_scores_dict,\n",
    "        'overall_score': float(overall_score.group(1)) if overall_score else None,\n",
    "        'full_analysis': llm_output\n",
    "    }"
   ]
  },
  {
   "cell_type": "markdown",
   "id": "b91308fa-c7c5-4180-bbe0-ba4697abf117",
   "metadata": {},
   "source": [
    "## LLM stock evaluation\n",
    "\n",
    "### TODO \n",
    "\n",
    "Add technical analysis, any other components to create a composite score (e.g. using combined or weighted ranking) for the overall scores"
   ]
  },
  {
   "cell_type": "code",
   "execution_count": null,
   "id": "27ef54dd-ecaa-487c-bf49-eacdfbbe2e3b",
   "metadata": {},
   "outputs": [],
   "source": [
    "def evaluate_stock(ticker, start_date, end_date):\n",
    "    data = get_financial_data(ticker, start_date, end_date)\n",
    "    income_statement = data['income_statement']\n",
    "    \n",
    "    scores = []\n",
    "    for i in range(len(income_statement.columns) - 1):\n",
    "        current_year = format_income_statement_for_llm(income_statement.iloc[:, i])\n",
    "        previous_year = format_income_statement_for_llm(income_statement.iloc[:, i+1])\n",
    "        score = evaluate_income_statements_llm(current_year, previous_year)\n",
    "        scores.append((income_statement.columns[i].year, score))\n",
    "    \n",
    "    return pd.DataFrame(scores, columns=['Year', 'Score'])"
   ]
  },
  {
   "cell_type": "markdown",
   "id": "372ccfe3-aab0-49e3-96b4-dd4452f3358a",
   "metadata": {},
   "source": [
    "Calculate scores for all of our stocks"
   ]
  },
  {
   "cell_type": "code",
   "execution_count": null,
   "id": "02274002-7528-4df1-b375-a52fc426e71c",
   "metadata": {},
   "outputs": [],
   "source": [
    "all_scores = []\n",
    "for ticker in top_stocks:\n",
    "    print(f\"Evaluating {ticker}...\")\n",
    "    scores = evaluate_stock(ticker, start_date, end_date)\n",
    "    scores['Ticker'] = ticker\n",
    "    all_scores.append(scores)\n",
    "\n",
    "all_scores = pd.concat(all_scores)"
   ]
  },
  {
   "cell_type": "code",
   "execution_count": null,
   "id": "e65ef3f0-6ef5-4539-8254-d1d5134ed48b",
   "metadata": {},
   "outputs": [],
   "source": [
    "all_scores.tail(40)"
   ]
  },
  {
   "cell_type": "markdown",
   "id": "2ae10d90-8ff7-4c5f-9541-fe3abce66ffb",
   "metadata": {},
   "source": [
    "## Visualizing scores"
   ]
  },
  {
   "cell_type": "code",
   "execution_count": null,
   "id": "ef56302f-f429-4407-b2e5-a12aff79329c",
   "metadata": {},
   "outputs": [],
   "source": [
    "# Pivot the table\n",
    "pivoted_scores = all_scores.pivot(index='Year', columns='Ticker', values='Score')\n",
    "\n",
    "# Sort the index (Year) in descending order to have the most recent year first\n",
    "pivoted_scores = pivoted_scores.sort_index(ascending=False)\n",
    "\n",
    "# Keep only the last 3 years\n",
    "pivoted_scores = pivoted_scores.head(3)\n",
    "\n",
    "# Reset the index to make 'Year' a regular column\n",
    "pivoted_scores = pivoted_scores.reset_index()\n",
    "\n",
    "# Save the pivoted DataFrame to a CSV file\n",
    "pivoted_scores.to_csv('pivoted_stock_scores.csv', index=False)\n",
    "\n",
    "print(pivoted_scores)"
   ]
  },
  {
   "cell_type": "markdown",
   "id": "3a50a024-ecea-45e3-bdd4-fbdb1c4581af",
   "metadata": {},
   "source": [
    "## Backtesting"
   ]
  },
  {
   "cell_type": "code",
   "execution_count": null,
   "id": "047a40ce-ec24-4c4e-a337-9e687a189bca",
   "metadata": {},
   "outputs": [],
   "source": []
  }
 ],
 "metadata": {
  "kernelspec": {
   "display_name": "Python 3 (ipykernel)",
   "language": "python",
   "name": "python3"
  },
  "language_info": {
   "codemirror_mode": {
    "name": "ipython",
    "version": 3
   },
   "file_extension": ".py",
   "mimetype": "text/x-python",
   "name": "python",
   "nbconvert_exporter": "python",
   "pygments_lexer": "ipython3",
   "version": "3.12.3"
  }
 },
 "nbformat": 4,
 "nbformat_minor": 5
}
