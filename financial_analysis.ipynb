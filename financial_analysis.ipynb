{
 "cells": [
  {
   "cell_type": "markdown",
   "id": "284ecd43-7880-40e6-988e-f7b057edc634",
   "metadata": {},
   "source": [
    "## Main idea\n",
    "\n",
    "Combine \n",
    "- fundamental,\n",
    "- technical (including weekly RSI), and\n",
    "- financial statements analysis\n",
    "\n",
    "to find stocks that are attractive to buy long term (as a buy and hold).\n",
    "\n",
    "Goal is to hold these medium/long term and not worry so much about the allocation, then when the stocks look less attractive, then sell them (or a portion)."
   ]
  },
  {
   "cell_type": "code",
   "execution_count": null,
   "id": "c1f3c95d-a203-40d4-9c7d-d558070fd865",
   "metadata": {},
   "outputs": [],
   "source": [
    "import yfinance as yf\n",
    "import pandas as pd\n",
    "import numpy as np\n",
    "import matplotlib.pyplot as plt\n",
    "from groq import Groq\n",
    "import re\n",
    "from datetime import datetime, timedelta"
   ]
  },
  {
   "cell_type": "code",
   "execution_count": null,
   "id": "e4384774-914d-46d1-8f99-c1db7a1cde36",
   "metadata": {},
   "outputs": [],
   "source": [
    "from dotenv import load_dotenv\n",
    "import os\n",
    "\n",
    "# Load environment variables\n",
    "load_dotenv('groq_api.env')"
   ]
  },
  {
   "cell_type": "code",
   "execution_count": null,
   "id": "16cf25d3-ce52-4f75-8ffa-40c233e19343",
   "metadata": {},
   "outputs": [],
   "source": [
    "# Initialize Groq client\n",
    "groq_api_key = os.getenv('GROQ_API_KEY')\n",
    "groq_client = Groq(api_key=groq_api_key)"
   ]
  },
  {
   "cell_type": "markdown",
   "id": "073259f3-5eff-4f12-8de0-39957b89fbf2",
   "metadata": {},
   "source": [
    "## Data collection\n",
    "\n",
    "### TODO\n",
    "Extend the function below to get all, or top 100 sp500 stocks, plus any that we currently own"
   ]
  },
  {
   "cell_type": "code",
   "execution_count": null,
   "id": "94a572bd-f074-4d84-b9ef-d7bc4327525d",
   "metadata": {},
   "outputs": [],
   "source": [
    "def get_top_sp500_stocks(n=20):\n",
    "    # Declare top 10 stocks in S&P 500 (for demonstration)\n",
    "    tickers = ['AAPL', 'MSFT', 'AMZN', 'GOOGL', 'GOOG', 'META', 'TSLA', 'BRK.B', 'JPM', 'V', 'DASH', 'NFLX', 'DIS', 'SBUX', 'BABA', 'NVDA', 'BIDU', 'XOM', 'PEG', 'CEG', 'BWXT', 'NEM', 'GFI', 'HMY', 'CVX', 'AVGO', 'HD', 'PG', 'WMT', 'JNJ', 'ABBV']\n",
    "    \n",
    "    # Get market cap for each stock\n",
    "    market_caps = {}\n",
    "    for ticker in tickers:\n",
    "        stock = yf.Ticker(ticker)\n",
    "        market_caps[ticker] = stock.info.get('marketCap', 0)\n",
    "    \n",
    "    # Sort by market cap and get top n\n",
    "    top_stocks = sorted(market_caps.items(), key=lambda x: x[1], reverse=True)[:n]\n",
    "    return [stock[0] for stock in top_stocks]"
   ]
  },
  {
   "cell_type": "code",
   "execution_count": null,
   "id": "bc8f7ae5-5619-4644-8cfa-01cba5978f5f",
   "metadata": {},
   "outputs": [],
   "source": [
    "top_stocks = get_top_sp500_stocks(20)\n",
    "pd.DataFrame(top_stocks, columns=['Ticker']).to_csv('top_20_stocks.csv', index=False)"
   ]
  },
  {
   "cell_type": "markdown",
   "id": "d44a4568-ffb8-4453-9e05-aab18e18fb1f",
   "metadata": {},
   "source": [
    "## Retrieve financial data\n",
    "\n",
    "Retrieve both historical price data and income statements for each stock over the past five years."
   ]
  },
  {
   "cell_type": "code",
   "execution_count": null,
   "id": "0743c90b-eb5c-4078-8b4d-10392477bf71",
   "metadata": {},
   "outputs": [],
   "source": [
    "def get_financial_data(ticker, start_date, end_date):\n",
    "    stock = yf.Ticker(ticker)\n",
    "    \n",
    "    # Get historical price data\n",
    "    price_data = stock.history(start=start_date, end=end_date)\n",
    "    \n",
    "    # Get income statement\n",
    "    income_statement = stock.financials\n",
    "    \n",
    "    return {\n",
    "        \"price_data\": price_data,\n",
    "        \"income_statement\": income_statement\n",
    "    }"
   ]
  },
  {
   "cell_type": "code",
   "execution_count": null,
   "id": "a5d8ff45-2188-48cc-9561-65b54a480bc5",
   "metadata": {},
   "outputs": [],
   "source": [
    "start_date = datetime.now() - timedelta(days=5*365)\n",
    "end_date = datetime.now()\n",
    "\n",
    "all_data = {}\n",
    "for ticker in top_stocks:\n",
    "    all_data[ticker] = get_financial_data(ticker, start_date, end_date)"
   ]
  },
  {
   "cell_type": "code",
   "execution_count": null,
   "id": "742ed9f6-5404-4342-93b2-15d1139e54f6",
   "metadata": {},
   "outputs": [],
   "source": [
    "# all_data"
   ]
  },
  {
   "cell_type": "code",
   "execution_count": null,
   "id": "17897b5f-5131-4404-9f20-6db7158f1cb2",
   "metadata": {},
   "outputs": [],
   "source": [
    "def format_income_statement_for_llm(income_statement_column):\n",
    "    formatted_text = \"\"\n",
    "    for index, value in income_statement_column.items():\n",
    "        formatted_value = f\"{value:,.2f}\" if isinstance(value, (int, float)) else str(value)\n",
    "        formatted_text += f\"{index}: {formatted_value}\\n\"\n",
    "    return formatted_text.strip()"
   ]
  },
  {
   "cell_type": "code",
   "execution_count": null,
   "id": "e3e14e77-c879-4c2f-a7f7-ffe0555bc99f",
   "metadata": {},
   "outputs": [],
   "source": [
    "# Example usage\n",
    "for ticker, data in all_data.items():\n",
    "    current_year = data['income_statement'].columns[0]\n",
    "    formatted_statement = format_income_statement_for_llm(data['income_statement'][current_year])\n",
    "    print(f\"Formatted Income Statement for {ticker}:\\n{formatted_statement}\\n\")"
   ]
  },
  {
   "cell_type": "code",
   "execution_count": null,
   "id": "7eea6f0f-8e1e-45cd-8028-8766efeb26b4",
   "metadata": {},
   "outputs": [],
   "source": []
  }
 ],
 "metadata": {
  "kernelspec": {
   "display_name": "Python 3 (ipykernel)",
   "language": "python",
   "name": "python3"
  },
  "language_info": {
   "codemirror_mode": {
    "name": "ipython",
    "version": 3
   },
   "file_extension": ".py",
   "mimetype": "text/x-python",
   "name": "python",
   "nbconvert_exporter": "python",
   "pygments_lexer": "ipython3",
   "version": "3.12.3"
  }
 },
 "nbformat": 4,
 "nbformat_minor": 5
}
